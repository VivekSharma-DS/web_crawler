{
  "nbformat": 4,
  "nbformat_minor": 0,
  "metadata": {
    "colab": {
      "name": "task2 IR.ipynb",
      "provenance": [],
      "collapsed_sections": []
    },
    "kernelspec": {
      "name": "python3",
      "display_name": "Python 3"
    },
    "language_info": {
      "name": "python"
    }
  },
  "cells": [
    {
      "cell_type": "code",
      "metadata": {
        "id": "FNluky0fMqYM"
      },
      "source": [
        "#f = open('FridayLab.txt', 'r')\n",
        "#docs = f.read().split(\"\\n\")\n",
        "#print(docs)\n"
      ],
      "execution_count": null,
      "outputs": []
    },
    {
      "cell_type": "code",
      "metadata": {
        "id": "anwp8FauPpMx"
      },
      "source": [
        "#docs = [\"France wins world cup in football\",\n",
        " #       \"Machester United beats (someone) in France\",\n",
        "  #      \"Bill Gates invests in Bitcoin.\",\n",
        "   #     \"Coventry University ranked 24th in ....\",\n",
        "    #    \"Student at Coventry University achieves ....\"]\n"
      ],
      "execution_count": null,
      "outputs": []
    },
    {
      "cell_type": "code",
      "metadata": {
        "colab": {
          "base_uri": "https://localhost:8080/"
        },
        "id": "l3Lfe3Gbw4Ou",
        "outputId": "50179ab9-4350-4056-a0bc-9e61c2058911"
      },
      "source": [
        "f = open('news.txt', 'r')\n",
        "docs = f.read().split(\"\\n\")\n",
        "print(docs)"
      ],
      "execution_count": null,
      "outputs": [
        {
          "output_type": "stream",
          "name": "stdout",
          "text": [
            "['The BBC has been announced as the host broadcaster for the 2022 World Gymnastics Championships in Liverpool.BBC director of sport Barbara Slater said the organisation was thrilled to have been chosen.', 'Eoin Morgan has said Saturday\\'s Men\\'s T20 World Cup match against Australia will be a meeting of the teams who sit behind India as \"joint second favourites\" for the title.', 'Barcelona president Joan Laporta says he is in contact with Xavi but would not comment on whether he will replace Ronald Koeman as manager.Koeman was sacked after defeat to Rayo Vallecano on Wednesday and Laporta has admitted he should have gone sooner.', \"Women's sport is on course to achieve a record for British broadcast audiences in 2021, a new report says.Futures Sport, working with the Women's Sport Trust, estimates an audience of 51.1m will be reached in 2021, growing from 46.8m in 2019.\", \"Shearer's 100th goal for Newcastle United was all about power. While the Magpies were beaten 5-3 on the day, Shearer launched an unstoppable effort into the top right corner and beyond World Cup-winning France goalkeeper Fabien Barthez after the free-kick was rolled into his path.\", \"Real Madrid beat Barcelona in a new-look El Clasico to briefly go top of La Liga and leave Ronald Koeman's side down in eighth in the table.It was the first Clasico without Barca icon Lionel Messi or Real legend Sergio Ramos - who both joined Paris St-Germain in the summer - since 2004.\", \"When 150,000 Lionel Messi shirts went on sale on Paris St-Germain's website the day his signing was announced, they were gone within seven minutes.\", 'Wolves striker Raul Jimenez says he is enjoying playing football more now that he is back in action after fracturing his skull against Arsenal in November 2020.', 'Monterrey secured a fifth Concacaf Champions League title, and a second in three years, with a 1-0 win over seven-time winners Club America.Rogelio Funes Mori got the only goal in a fourth all-Mexican final in six years of the competition for clubs in North and Central America and the Caribbean.Club America were denied a penalty in the 10th minute of stoppage time after a VAR check for handball.', \"Barcelona have appointed Sergi Barjuan as their interim coach following the sacking of Ronald Koeman.Barjuan, who is currently in charge of the club's B team, will be introduced to the senior squad on Thursday by club president Joan Laporta.\", \"Australia maintained their 100% record at the Men's T20 World Cup with a dominant seven-wicket win over Sri Lanka.Chasing 155 for victory, opener David Warner hit a fluent 65 from 42 balls. When he fell in the 15th over Australia needed only 25.\", \"Sri Lanka's 154-6 had looked competitive on a slow pitch, but their bowlers struggled as openers Warner and Aaron Finch, who made 37, shared 70 to set Australia on their way.\", \"Defending champions West Indies kept their Men's T20 World Cup semi-final hopes alive with a tense three-run win over Bangladesh in Sharjah.Chasing 143 to win, Bangladesh needed 13 from the final over and worked that down to four from the final ball.Captain Mahmudullah missed though and Bangladesh suffered a third straight loss to be all-but eliminated.\", \"England World Cup winner Fran Wilson has retired from international cricket.Wilson, 29, played 64 times for England across three formats and was part of the team who won the 2017 50-over World Cup at Lord's.\", 'Ruben Trumpelmann sets Namibia on the way to victory, claiming three wickets in the opening over against Scotland at the T20 World Cup.', 'Pakistan recover from a slow start with an inspired batting performance from Asif Ali and Shoaib Malik to beat New Zealand by five wickets at the T20 World Cup.', \"The first black African batsman to play Test cricket for South Africa, the first to score a Test century and the first to captain the national team.Temba Bavuma has blazed a trail that could be topped by his becoming the first player to skipper the Proteas to victory at a World Cup.The 31-year-old leads South Africa at their seventh Men's T20 World Cup, with their best performances coming in 2009 and 2014 when they stumbled at the semi-final hurdle.\", \"England finish their home summer having drawn a Test match, won six of their eight one-day internationals and lost only two of their six Twenty20 games.This summer has also featured the introduction of The Hundred, with the majority of women's games attracting huge crowds and giving players such as Alice Capsey and Maia Bouchier the chance to perform on a bigger stage.\", \"It has been a difficult two years for Zimbabwe's women's cricket team, but captain Mary-Anne Musonda's century on a winning One-Day International (ODI) debut for the team gives hope for a distinctly brighter future.\", 'The fifth day of the second Test against India, when England contrived to lose by 151 runs, will rank as one of their worst for a long time.', \"The United States Grand Prix was a race that encapsulated the 2021 Formula 1 season so far - incredibly close, tense and gripping, decided by fine margins, and ending with Max Verstappen's Red Bull on top.\", 'Formula 1 world champion Lewis Hamilton is one of 29 \\'Future Figures\\' chosen by Radio 1Xtra to celebrate Black History Month.The series aims to highlight individuals, groups and organisations who are \"making Black history now\".Hamilton is one of the greatest F1 drivers of all time. In 2020 he equalled Michael Schumacher\\'s world championship record of seven titles, then in September he became the first F1 driver to reach 100 career victories by winning the Russian Grand Prix.', \"The Chinese Grand Prix has been dropped from next year's Formula 1 calendar.The Shanghai race has not been held since the coronavirus pandemic began and restrictions surrounding Covid in China mean staging it is impossible.\", 'Australia, Canada, Singapore and Japan - none of whose races have yet been held during the pandemic - are back for 2022.In the past two seasons, all four countries had their races cancelled as a result of their respective national restrictions surrounding Covid-19.', 'F1 published a record 23-race calendar for 2022, starting in Bahrain on 20 March and ending in Abu Dhabi on 20 November, with the season crammed into 35 weeks.', \"The championship will end three weeks earlier than this year's to avoid a clash with the football World Cup in Qatar, which is scheduled to start on 21 November 2022.\", 'F1 president Stefano Domenicali said: \"This season has been incredible so far with great battles on the track, large audiences tuning in and fans returning to the races after the impact of the pandemic.\"We look forward to welcoming more fans back next season and hope 2022 feels more normal than the life we have all experienced in the past two years.', \"Formula 1 is inching towards an agreement on a new engine design to be used from 2026 - and it looks increasingly likely that its introduction will tempt at least one of the Volkswagen Group's brands to join the grid.\", \"VW has made it clear it will not enter F1 if the engines retain the MGU-H, because it would have been next to impossible for them to catch up to the levels of expertise built up over the past seven years by F1's current suppliers, Ferrari, Honda, Mercedes and Renault.\", \"Bernie Ecclestone has seen many things in his long and controversial life.Born 90 years ago in the tiny Suffolk village of St Peter South Elmham (population 40), the love of engines and motor racing would see the fisherman's son rise to dine with royals and presidents alike.\", 'Unvaccinated tennis stars are set to be allowed to play in the Australian Open but face two weeks of hard quarantine and regular testing, according to a letter distributed to WTA players.', \"Britain's Andy Murray was beaten at the Vienna Open for the first time in his career after a straight-set defeat by Spanish teenager Carlos Alcaraz.Murray, the 2014 and 2016 champion, lost 6-3 6-4 in an entertaining match.\", 'British number three Heather Watson has lost a sixth successive match to bow out of the Tenerife Open in round one.', \"Cameron Norrie only turned professional four years ago, but can now call himself the British number one, a member of the world's top 16 and a Masters Series champion.With a three-set victory over Nikoloz Basilashvili of Georgia, Norrie became the first-ever British champion at Indian Wells.\", \"Rory McIlroy says he almost took the rest of 2021 off after struggling during Europe's heavy Ryder Cup defeat.The Northern Irishman, 32, changed his mind and won the CJ Cup in Las Vegas on Sunday for his 20th PGA Tour title.\", 'Despite opposition from Phil Mickelson, organisers of professional and elite amateur golf competitions are to be given the right to limit the length of golf clubs from next year.Any club, other than a putter, can be a maximum 48 inches in length, but this would be limited to 46 inches if organisations such as the PGA and European Tours use the option of a new \"model local rule\" being introduced by the R&A and United States Golf Association.', \"Tyson Fury came back from two knockdowns on Saturday and sensationally stopped Deontay Wilder in round 11 at the T-Mobile Arena in Las Vegas.The rivalry is finally put to bed and the Gypsy King's reign in the heavyweight division goes on.\", \"Cycling and marathon routes for the 2022 Commonwealth Games in Birmingham have been revealed.The marathon event, on the first Saturday of the Games, will take in the city centre and south Birmingham and the following week's cycling race will be staged in Warwickshire.\", 'Joanna Coates has resigned as chief executive of UK Athletics and performance director Sara Symington has stepped down to join British Cycling.Coates was appointed in February 2020, after Zara Hyde-Peters opted not to take up the role.', \"Tributes have been pouring in for Kenya's Agnes Tirop, who was found dead on Wednesday, with her former athletics captain Julius Yego among those leading the way.\", \"With the vital COP26 climate conference beginning this weekend in Glasgow, there had been speculation over whether the chancellor would use this Budget to deliver the cash needed for the UK's future low-carbon economy.Although Rishi Sunak didn't explicitly mention the climate, here are how some of the policy announcements could impact the environment.\", 'Arnold Schwarzenegger says leaders who claim combating climate change hurts the economy are \"stupid or liars\".Ahead of the COP26 climate summit, the former governor of California told the BBC that cutting carbon emissions will benefit global economies.', 'Ten of the wPolluted water from an old landfill site was allowed to seep into a river because council managers did not know how to run it properly, environmental inspectors have said.', \"orld's most protected forests have become net emitters of carbon, as they are degraded by human activity and climate change.\", 'The alarming insight is from a study of\\u202f planet-warming gases emitted from and absorbed by forests in Unesco World Heritage sites.', \"A sample of hair belonging to the legendary 19th century Native American leader Sitting Bull has allowed scientists to confirm that a South Dakota man is his great-grandson.Scientists took DNA from a tiny sample of Sitting Bull's hair that had been stored in Washington DC.\", \"South Korea has launched its first homegrown rocket, stepping up the country's ambitions in space.The Korean Satellite Launch Vehicle II, known as Nuri, took off from Goheung, about 500km (310 miles) south of Seoul.\", \"Nasa's next-generation spaceship has been lifted onto the rocket that will launch it to the Moon this year or in early 2022.On Wednesday, the Orion spacecraft was attached to the powerful Space Launch System (SLS) rocket at Nasa's Kennedy Space Center in Florida.\", 'One of the scientists behind the Oxford Covid vaccine has said that our lives depend on future investment in science.', 'Prof Sir Andrew Pollard told BBC News that other nations will overtake the UK unless the Chancellor sticks to his commitment to double science spending.', 'Most satellites are simply computers that are tossed out the side of a rocket [that] are tumbling in space,\" says Jonathan Lun.Mr Lun and his Cape Town-based company, Hypernova Space Technologies, are keen to give these tumbling satellites a little bit more autonomy.', '', 'There are an estimated 3,200 nanosatellites floating around in orbit already, and that number is expected to grow rapidly in the near future: SpaceX alone is in the process of launching a constellation of around 42,000 satellites.', \"Engineers have unboxed the James Webb Space Telescope in French Guiana and will now prepare it for launch.The $10bn successor to the Hubble observatory arrived at Europe's Kourou spaceport five days ago after being shipped from the US.\", 'The threats to our cities seem endless - from flash flooding to pollution, overcrowding to the risk of pandemics.To help avert crises, many cities have invested in technology - the theory being that if you can see the scale of the problem, you can start to work out what to do about it.So sensors measuring crowds, river levels and pollution have gradually become as much a part of our urban infrastructure as lampposts and traffic lights.', 'A smart flood prevention system was in place in the Chinese city of Zhengzhou when rainstorms caused at least 302 deaths in July.', 'UK company Previsico offers its own flood warning system and co-founder Dr Avi Baruch told the BBC that there may be lessons to learn, but that it \"it would be wrong to rush to judgement\".', 'Archaeologists discovered the world’s oldest known animal cave painting in Indonesia. A panel showing wild pigs believed to have been made 45,500 years ago was found in a cave in a remote valley on the island of Sulawesi.', 'Vikings had a settlement in North America exactly one thousand years ago, centuries before Christopher Columbus arrived in the Americas, a study says.', 'Scientists say a new dating technique analysing tree rings has provided evidence that Vikings occupied a site in Newfoundland, Canada, in 1021AD.', 'US wildlife researchers have discovered that two California condors, a critically endangered bird, gave birth without any male genetic DNA.The discovery that condors are capable of virgin births - formally called parthenogenesis or asexual reproduction - surprised scientists.', 'Natural Resources Wales (NRW) said chemically contaminated water from rotting rubbish leaked into the River Ely and Cardiff Bay instead of being pumped away, according to the Local Democracy Reporting Service.', 'Edwin Poots has claimed that the 100% target for reducing emissions in the Green Party\\'s climate change bill would cost \"an additional £1bn a year\".', \"The UK's new polar research ship, the RRS Sir David Attenborough, has completed basic sea trials and is ready to undertake its first expedition.\", \"A British charity worker has described the 'sporadic collapse' of essential buildings following a devastating earthquake in Haiti.\", 'The Scottish government welcomed the findings which it said would help outline what is needed to \"achieve rapid and efficient results that are also supportive of our farmers and crofters\".', 'Hurricane Ida made landfall in Louisiana as a category four storm. With wind speeds in excess of 150mph, Ida is more powerful than Hurricane Katrina which battered the Gulf Coast in 2005.', \"The University of Surrey cyber-security expert is talking about his new satellite broadband service from space entrepreneur Elon Musk's Starlink company.\", 'The UK energy watchdog has said it will review how the price cap on gas and electricity bills is calculated following a series of company failures.Ofgem said there had been an \"unprecedented\" rise in wholesale energy prices.', 'Swedish car company Volvo is now valued at more than $22bn (£16bn) after its shares jumped in the first hours of trading of its market debut.', 'Geely will remain the largest single shareholder in the carmaker after the public listing.', 'Greta Thunberg has called on banks to \"stop funding our destruction\", ahead of the UN COP26 climate summit.The teenage Swedish climate activist is in London to take part in protests demanding the financial system stops funding fossil fuel projects.', 'Mortgage experts are expecting a \"slow and measured\" increase in the cost of home loans amid predictions of rising prices elsewhere.All eyes turn to the Bank of England which will consider next week whether to raise the base rate.', \"The Office for Budget Responsibility (OBR) - the government's official, independent forecaster - said inflation (which measures the cost of living) was likely to speed up to 4% next year.\", 'A rise in the Bank rate next year, and the year after, from its current record low of 0.1%. It said the Bank rate would not be expected to breach the 1% mark, although it could go as high as 3.5% if inflation went above 5%.', 'Amazon has said it will spend several billion dollars to manage labour shortages and supply chain issues in the run-up to Christmas.The online retail giant said it was doing \"whatever it takes to minimise the impact\" on customers and sellers.', 'Facebook has changed its corporate name to Meta as part of a major rebrand.The company said it would better \"encompass\" what it does, as it broadens its reach beyond social media into areas like virtual reality (VR).', 'When 29-year-old twins Oliver and Alexander Kent-Braham decided to reinvent one of the most traditional areas of finance - insurance - all they had to go on was an idea and the foyer of a gym for an office.', 'Rich Lesser, head of global firm Boston Consulting Group, thinks CEOs of large companies exist in a \"bubble\". He explains why he had to burst his own in order to grasp the importance of climate change, for our business advice series, CEO Secrets.', 'Millions of people are set to be worse off next year amid spiralling costs and tax rises, says an economic think tank.The Institute for Fiscal Studies (IFS) said that inflation and higher taxes on incomes would negate small wage increases for middle earners.', 'US economic growth slowed sharply in the third quarter of the year, as the fast-spreading Delta variant of coronavirus dampened consumer spending.', 'The economy expanded at an annualised rate of just 2% in the three months to September - down from 6.7% in the previous quarter.', 'Among other things, sales of big-ticket manufactured goods fell by 26% during the period. In particular, sales of new cars fell sharply, as prices shot up amid a shortage of semiconductors.', \"VAT on household energy bills will not be cut in the Chancellor's Budget on Wednesday, despite calls to help families struggling with soaring prices.\", 'The government could provide loans worth hundreds of millions of pounds, with the Treasury said to be considering the proposals.', 'The UK has been a big producer of gas since the mid-1960s - but output has fallen since 2000 and usage continues to rise.We now import more than half our gas - much of it from Norway, and a considerable amount from the Netherlands and Belgium.', \"Because of the UK's lack of gas storage facilities, it has to buy large quantities on the wholesale market. UK wholesale gas prices hit a record high this week before Russian President Vladimir Putin said he would boost supplies to Europe.\", 'Next year, Danish wind turbine manufacturer Vestas will put up a gargantuan prototype - a 15-megawatt (MW) wind turbine that will be powerful enough to provide electricity to roughly 13,000 British homes.', 'Chinese firm, MingYang, recently announced plans for an even more powerful device clocking in at 16MW, for example. Just four years ago, the maximum capacity of an offshore turbine was 8MW.', \"The UK currently has about 10.5 gigawatts (GW) of offshore wind capacity and this is set to quadruple by 2030. But that still isn't enough to deliver net-zero electricity by 2035, according to researchers at Imperial College, London.\", 'The pandemic sparked a global cycling boom prompting an increase in demand for bikes whilst simultaneously wholesalers have been stung by a worldwide shipping container shortage.', 'Boris Johnson says he fears the EU-UK trade agreement may have been breached in a dispute with France over post-Brexit fishing rights.', 'Fishing was one of the final sticking points in the post-Brexit trade talks. While fishing is a tiny part of the economy on both sides of the Channel, it carries big political weight.', 'Play-to-earn games have grown increasingly popular during the pandemic as the surge in online gaming encouraged the development of the GameFi technology sector which combines entertainment with real tools for earning money.', \"A British firm which sells people's location data has admitted that some of its information was gained without seeking permission from users.\", 'Lamborghini had its most profitable year ever in 2020, despite a two-month shutdown of its Italian factory during the pandemic.', 'Shops, restaurants and bars and gyms in England which have been badly hit by the Covid-19 pandemic have been given a financial boost in the Budget.', 'Facebook has posted better-than-expected profits for the third quarter, as it continues to face bad press over leaked internal documents.The social media giant made $9bn (£6.5bn) of profit in the three months to September, up from $7.8bn last year.', \"The boss of Heathrow Airport has warned air traffic may not recover completely until at least 2026 despite signs of huge pent up demand for travel.John Holland-Kaye told the BBC that Britain's busiest airport was still making losses even though international travel rules were easing.\", 'Washington has revoked the US licence of one of China\\'s biggest telecoms companies citing \"national security\" concerns.China Telecom must stop providing services in America within 60 days.']\n"
          ]
        }
      ]
    },
    {
      "cell_type": "code",
      "metadata": {
        "colab": {
          "base_uri": "https://localhost:8080/"
        },
        "id": "UPgE4TNgNDEM",
        "outputId": "8ffd3b01-2a41-4e25-e0b9-20000ab27f47"
      },
      "source": [
        "import nltk\n",
        "nltk.download(\"stopwords\")\n",
        "from nltk.corpus import stopwords\n",
        "\n",
        "sw = stopwords.words('english')\n",
        "print(sw)\n"
      ],
      "execution_count": null,
      "outputs": [
        {
          "output_type": "stream",
          "name": "stdout",
          "text": [
            "[nltk_data] Downloading package stopwords to /root/nltk_data...\n",
            "[nltk_data]   Unzipping corpora/stopwords.zip.\n",
            "['i', 'me', 'my', 'myself', 'we', 'our', 'ours', 'ourselves', 'you', \"you're\", \"you've\", \"you'll\", \"you'd\", 'your', 'yours', 'yourself', 'yourselves', 'he', 'him', 'his', 'himself', 'she', \"she's\", 'her', 'hers', 'herself', 'it', \"it's\", 'its', 'itself', 'they', 'them', 'their', 'theirs', 'themselves', 'what', 'which', 'who', 'whom', 'this', 'that', \"that'll\", 'these', 'those', 'am', 'is', 'are', 'was', 'were', 'be', 'been', 'being', 'have', 'has', 'had', 'having', 'do', 'does', 'did', 'doing', 'a', 'an', 'the', 'and', 'but', 'if', 'or', 'because', 'as', 'until', 'while', 'of', 'at', 'by', 'for', 'with', 'about', 'against', 'between', 'into', 'through', 'during', 'before', 'after', 'above', 'below', 'to', 'from', 'up', 'down', 'in', 'out', 'on', 'off', 'over', 'under', 'again', 'further', 'then', 'once', 'here', 'there', 'when', 'where', 'why', 'how', 'all', 'any', 'both', 'each', 'few', 'more', 'most', 'other', 'some', 'such', 'no', 'nor', 'not', 'only', 'own', 'same', 'so', 'than', 'too', 'very', 's', 't', 'can', 'will', 'just', 'don', \"don't\", 'should', \"should've\", 'now', 'd', 'll', 'm', 'o', 're', 've', 'y', 'ain', 'aren', \"aren't\", 'couldn', \"couldn't\", 'didn', \"didn't\", 'doesn', \"doesn't\", 'hadn', \"hadn't\", 'hasn', \"hasn't\", 'haven', \"haven't\", 'isn', \"isn't\", 'ma', 'mightn', \"mightn't\", 'mustn', \"mustn't\", 'needn', \"needn't\", 'shan', \"shan't\", 'shouldn', \"shouldn't\", 'wasn', \"wasn't\", 'weren', \"weren't\", 'won', \"won't\", 'wouldn', \"wouldn't\"]\n"
          ]
        }
      ]
    },
    {
      "cell_type": "code",
      "metadata": {
        "colab": {
          "base_uri": "https://localhost:8080/"
        },
        "id": "IbgiwjTJNXNh",
        "outputId": "8e137999-90bb-4173-a430-4049015e9eb3"
      },
      "source": [
        "nltk.download(\"punkt\")\n",
        "from nltk.tokenize import word_tokenize\n",
        "from nltk.stem import PorterStemmer\n",
        "\n",
        "ps = PorterStemmer()\n",
        "filtered_docs = []\n",
        "for doc in docs:\n",
        "    tokens = word_tokenize(doc)\n",
        "    tmp = \"\"\n",
        "    for w in tokens:\n",
        "        if w not in sw:\n",
        "            tmp += ps.stem(w) + \" \"\n",
        "    filtered_docs.append(tmp)\n",
        "\n",
        "print(filtered_docs)\n",
        " \n"
      ],
      "execution_count": null,
      "outputs": [
        {
          "output_type": "stream",
          "name": "stdout",
          "text": [
            "[nltk_data] Downloading package punkt to /root/nltk_data...\n",
            "[nltk_data]   Unzipping tokenizers/punkt.zip.\n",
            "['the bbc announc host broadcast 2022 world gymnast championship liverpool.bbc director sport barbara slater said organis thrill chosen . ', \"eoin morgan said saturday 's men 's t20 world cup match australia meet team sit behind india `` joint second favourit '' titl . \", 'barcelona presid joan laporta say contact xavi would comment whether replac ronald koeman manager.koeman sack defeat rayo vallecano wednesday laporta admit gone sooner . ', \"women 's sport cours achiev record british broadcast audienc 2021 , new report says.futur sport , work women 's sport trust , estim audienc 51.1m reach 2021 , grow 46.8m 2019 . \", \"shearer 's 100th goal newcastl unit power . while magpi beaten 5-3 day , shearer launch unstopp effort top right corner beyond world cup-win franc goalkeep fabien barthez free-kick roll path . \", \"real madrid beat barcelona new-look El clasico briefli go top La liga leav ronald koeman 's side eighth table.it first clasico without barca icon lionel messi real legend sergio ramo - join pari st-germain summer - sinc 2004 . \", \"when 150,000 lionel messi shirt went sale pari st-germain 's websit day sign announc , gone within seven minut . \", 'wolv striker raul jimenez say enjoy play footbal back action fractur skull arsen novemb 2020 . ', 'monterrey secur fifth concacaf champion leagu titl , second three year , 1-0 win seven-tim winner club america.rogelio fune mori got goal fourth all-mexican final six year competit club north central america caribbean.club america deni penalti 10th minut stoppag time var check handbal . ', \"barcelona appoint sergi barjuan interim coach follow sack ronald koeman.barjuan , current charg club 's B team , introduc senior squad thursday club presid joan laporta . \", \"australia maintain 100 % record men 's t20 world cup domin seven-wicket win sri lanka.chas 155 victori , open david warner hit fluent 65 42 ball . when fell 15th australia need 25 . \", \"sri lanka 's 154-6 look competit slow pitch , bowler struggl open warner aaron finch , made 37 , share 70 set australia way . \", \"defend champion west indi kept men 's t20 world cup semi-fin hope aliv tens three-run win bangladesh sharjah.chas 143 win , bangladesh need 13 final work four final ball.captain mahmudullah miss though bangladesh suffer third straight loss all-but elimin . \", \"england world cup winner fran wilson retir intern cricket.wilson , 29 , play 64 time england across three format part team 2017 50-over world cup lord 's . \", 'ruben trumpelmann set namibia way victori , claim three wicket open scotland t20 world cup . ', 'pakistan recov slow start inspir bat perform asif ali shoaib malik beat new zealand five wicket t20 world cup . ', \"the first black african batsman play test cricket south africa , first score test centuri first captain nation team.temba bavuma blaze trail could top becom first player skipper protea victori world cup.th 31-year-old lead south africa seventh men 's t20 world cup , best perform come 2009 2014 stumbl semi-fin hurdl . \", \"england finish home summer drawn test match , six eight one-day intern lost two six twenty20 games.thi summer also featur introduct the hundr , major women 's game attract huge crowd give player alic capsey maia bouchier chanc perform bigger stage . \", \"It difficult two year zimbabw 's women 's cricket team , captain mary-ann musonda 's centuri win one-day intern ( odi ) debut team give hope distinctli brighter futur . \", 'the fifth day second test india , england contriv lose 151 run , rank one worst long time . ', \"the unit state grand prix race encapsul 2021 formula 1 season far - incred close , tens grip , decid fine margin , end max verstappen 's red bull top . \", \"formula 1 world champion lewi hamilton one 29 'futur figur ' chosen radio 1xtra celebr black histori month.th seri aim highlight individu , group organis `` make black histori '' .hamilton one greatest F1 driver time . In 2020 equal michael schumach 's world championship record seven titl , septemb becam first F1 driver reach 100 career victori win russian grand prix . \", \"the chines grand prix drop next year 's formula 1 calendar.th shanghai race held sinc coronaviru pandem began restrict surround covid china mean stage imposs . \", 'australia , canada , singapor japan - none whose race yet held pandem - back 2022.in past two season , four countri race cancel result respect nation restrict surround covid-19 . ', 'F1 publish record 23-race calendar 2022 , start bahrain 20 march end abu dhabi 20 novemb , season cram 35 week . ', \"the championship end three week earlier year 's avoid clash footbal world cup qatar , schedul start 21 novemb 2022 . \", 'F1 presid stefano domenicali said : `` thi season incred far great battl track , larg audienc tune fan return race impact pandem . `` We look forward welcom fan back next season hope 2022 feel normal life experienc past two year . ', \"formula 1 inch toward agreement new engin design use 2026 - look increasingli like introduct tempt least one volkswagen group 's brand join grid . \", \"VW made clear enter F1 engin retain mgu-h , would next imposs catch level expertis built past seven year F1 's current supplier , ferrari , honda , merced renault . \", \"berni eccleston seen mani thing long controversi life.born 90 year ago tini suffolk villag St peter south elmham ( popul 40 ) , love engin motor race would see fisherman 's son rise dine royal presid alik . \", 'unvaccin tenni star set allow play australian open face two week hard quarantin regular test , accord letter distribut wta player . ', \"britain 's andi murray beaten vienna open first time career straight-set defeat spanish teenag carlo alcaraz.murray , 2014 2016 champion , lost 6-3 6-4 entertain match . \", 'british number three heather watson lost sixth success match bow tenerif open round one . ', \"cameron norri turn profession four year ago , call british number one , member world 's top 16 master seri champion.with three-set victori nikoloz basilashvili georgia , norri becam first-ev british champion indian well . \", \"rori mcilroy say almost took rest 2021 struggl europ 's heavi ryder cup defeat.th northern irishman , 32 , chang mind CJ cup la vega sunday 20th pga tour titl . \", \"despit opposit phil mickelson , organis profession elit amateur golf competit given right limit length golf club next year.ani club , putter , maximum 48 inch length , would limit 46 inch organis pga european tour use option new `` model local rule '' introduc R & A unit state golf associ . \", \"tyson furi came back two knockdown saturday sensat stop deontay wilder round 11 t-mobil arena la vegas.th rivalri final put bed gypsi king 's reign heavyweight divis goe . \", \"cycl marathon rout 2022 commonwealth game birmingham revealed.th marathon event , first saturday game , take citi centr south birmingham follow week 's cycl race stage warwickshir . \", 'joanna coat resign chief execut UK athlet perform director sara symington step join british cycling.co appoint februari 2020 , zara hyde-pet opt take role . ', \"tribut pour kenya 's agn tirop , found dead wednesday , former athlet captain juliu yego among lead way . \", \"with vital cop26 climat confer begin weekend glasgow , specul whether chancellor would use budget deliv cash need UK 's futur low-carbon economy.although rishi sunak n't explicitli mention climat , polici announc could impact environ . \", \"arnold schwarzenegg say leader claim combat climat chang hurt economi `` stupid liar '' .ahead cop26 climat summit , former governor california told bbc cut carbon emiss benefit global economi . \", 'ten wpollut water old landfil site allow seep river council manag know run properli , environment inspector said . ', \"orld 's protect forest becom net emitt carbon , degrad human activ climat chang . \", 'the alarm insight studi planet-warm gase emit absorb forest unesco world heritag site . ', \"A sampl hair belong legendari 19th centuri nativ american leader sit bull allow scientist confirm south dakota man great-grandson.scientist took dna tini sampl sit bull 's hair store washington DC . \", \"south korea launch first homegrown rocket , step countri 's ambit space.th korean satellit launch vehicl II , known nuri , took goheung , 500km ( 310 mile ) south seoul . \", \"nasa 's next-gener spaceship lift onto rocket launch moon year earli 2022.on wednesday , orion spacecraft attach power space launch system ( sl ) rocket nasa 's kennedi space center florida . \", 'one scientist behind oxford covid vaccin said live depend futur invest scienc . ', 'prof sir andrew pollard told bbc new nation overtak UK unless chancellor stick commit doubl scienc spend . ', \"most satellit simpli comput toss side rocket [ ] tumbl space , '' say jonathan lun.mr lun cape town-bas compani , hypernova space technolog , keen give tumbl satellit littl bit autonomi . \", '', 'there estim 3,200 nanosatellit float around orbit alreadi , number expect grow rapidli near futur : spacex alon process launch constel around 42,000 satellit . ', \"engin unbox jame webb space telescop french guiana prepar launch.th $ 10bn successor hubbl observatori arriv europ 's kourou spaceport five day ago ship US . \", 'the threat citi seem endless - flash flood pollut , overcrowd risk pandemics.to help avert crise , mani citi invest technolog - theori see scale problem , start work it.so sensor measur crowd , river level pollut gradual becom much part urban infrastructur lamppost traffic light . ', 'A smart flood prevent system place chines citi zhengzhou rainstorm caus least 302 death juli . ', \"UK compani previsico offer flood warn system co-found Dr avi baruch told bbc may lesson learn , `` would wrong rush judgement '' . \", 'archaeologist discov world ’ oldest known anim cave paint indonesia . A panel show wild pig believ made 45,500 year ago found cave remot valley island sulawesi . ', 'vike settlement north america exactli one thousand year ago , centuri christoph columbu arriv america , studi say . ', 'scientist say new date techniqu analys tree ring provid evid vike occupi site newfoundland , canada , 1021ad . ', 'US wildlif research discov two california condor , critic endang bird , gave birth without male genet dna.th discoveri condor capabl virgin birth - formal call parthenogenesi asexu reproduct - surpris scientist . ', 'natur resourc wale ( nrw ) said chemic contamin water rot rubbish leak river eli cardiff bay instead pump away , accord local democraci report servic . ', \"edwin poot claim 100 % target reduc emiss green parti 's climat chang bill would cost `` addit £1bn year '' . \", \"the UK 's new polar research ship , rr sir david attenborough , complet basic sea trial readi undertak first expedit . \", \"A british chariti worker describ 'sporad collaps ' essenti build follow devast earthquak haiti . \", \"the scottish govern welcom find said would help outlin need `` achiev rapid effici result also support farmer crofter '' . \", 'hurrican ida made landfal louisiana categori four storm . with wind speed excess 150mph , ida power hurrican katrina batter gulf coast 2005 . ', \"the univers surrey cyber-secur expert talk new satellit broadband servic space entrepreneur elon musk 's starlink compani . \", \"the UK energi watchdog said review price cap ga electr bill calcul follow seri compani failures.ofgem said `` unpreced '' rise wholesal energi price . \", 'swedish car compani volvo valu $ 22bn ( £16bn ) share jump first hour trade market debut . ', 'geeli remain largest singl sharehold carmak public list . ', \"greta thunberg call bank `` stop fund destruct '' , ahead UN cop26 climat summit.th teenag swedish climat activist london take part protest demand financi system stop fund fossil fuel project . \", \"mortgag expert expect `` slow measur '' increas cost home loan amid predict rise price elsewhere.al eye turn bank england consid next week whether rais base rate . \", \"the offic budget respons ( obr ) - govern 's offici , independ forecast - said inflat ( measur cost live ) like speed 4 % next year . \", 'A rise bank rate next year , year , current record low 0.1 % . It said bank rate would expect breach 1 % mark , although could go high 3.5 % inflat went 5 % . ', \"amazon said spend sever billion dollar manag labour shortag suppli chain issu run-up christmas.th onlin retail giant said `` whatev take minimis impact '' custom seller . \", \"facebook chang corpor name meta part major rebrand.th compani said would better `` encompass '' , broaden reach beyond social media area like virtual realiti ( VR ) . \", 'when 29-year-old twin oliv alexand kent-braham decid reinvent one tradit area financ - insur - go idea foyer gym offic . ', \"rich lesser , head global firm boston consult group , think ceo larg compani exist `` bubbl '' . He explain burst order grasp import climat chang , busi advic seri , ceo secret . \", 'million peopl set wors next year amid spiral cost tax rise , say econom think tank.th institut fiscal studi ( if ) said inflat higher tax incom would negat small wage increas middl earner . ', 'US econom growth slow sharpli third quarter year , fast-spread delta variant coronaviru dampen consum spend . ', 'the economi expand annualis rate 2 % three month septemb - 6.7 % previou quarter . ', 'among thing , sale big-ticket manufactur good fell 26 % period . In particular , sale new car fell sharpli , price shot amid shortag semiconductor . ', \"vat household energi bill cut chancellor 's budget wednesday , despit call help famili struggl soar price . \", 'the govern could provid loan worth hundr million pound , treasuri said consid propos . ', 'the UK big produc ga sinc mid-1960 - output fallen sinc 2000 usag continu rise.w import half ga - much norway , consider amount netherland belgium . ', \"becaus UK 's lack ga storag facil , buy larg quantiti wholesal market . UK wholesal ga price hit record high week russian presid vladimir putin said would boost suppli europ . \", 'next year , danish wind turbin manufactur vesta put gargantuan prototyp - 15-megawatt ( MW ) wind turbin power enough provid electr roughli 13,000 british home . ', 'chines firm , mingyang , recent announc plan even power devic clock 16mw , exampl . just four year ago , maximum capac offshor turbin 8mw . ', \"the UK current 10.5 gigawatt ( GW ) offshor wind capac set quadrupl 2030 . but still n't enough deliv net-zero electr 2035 , accord research imperi colleg , london . \", 'the pandem spark global cycl boom prompt increas demand bike whilst simultan wholesal stung worldwid ship contain shortag . ', 'bori johnson say fear eu-uk trade agreement may breach disput franc post-brexit fish right . ', 'fish one final stick point post-brexit trade talk . while fish tini part economi side channel , carri big polit weight . ', 'play-to-earn game grown increasingli popular pandem surg onlin game encourag develop gamefi technolog sector combin entertain real tool earn money . ', \"A british firm sell peopl 's locat data admit inform gain without seek permiss user . \", 'lamborghini profit year ever 2020 , despit two-month shutdown italian factori pandem . ', 'shop , restaur bar gym england badli hit covid-19 pandem given financi boost budget . ', 'facebook post better-than-expect profit third quarter , continu face bad press leak intern documents.th social media giant made $ 9bn ( £6.5bn ) profit three month septemb , $ 7.8bn last year . ', \"the boss heathrow airport warn air traffic may recov complet least 2026 despit sign huge pent demand travel.john holland-kay told bbc britain 's busiest airport still make loss even though intern travel rule eas . \", \"washington revok US licenc one china 's biggest telecom compani cite `` nation secur '' concerns.china telecom must stop provid servic america within 60 day . \"]\n"
          ]
        }
      ]
    },
    {
      "cell_type": "code",
      "metadata": {
        "colab": {
          "base_uri": "https://localhost:8080/"
        },
        "id": "PKxaf5zVNphd",
        "outputId": "0101a1b0-2354-459a-a3b8-1d51698f47ce"
      },
      "source": [
        "from sklearn.feature_extraction.text import TfidfVectorizer\n",
        "vectorizer = TfidfVectorizer()\n",
        "X = vectorizer.fit_transform(filtered_docs)\n",
        "print(X.todense())\n"
      ],
      "execution_count": null,
      "outputs": [
        {
          "output_type": "stream",
          "name": "stdout",
          "text": [
            "[[0. 0. 0. ... 0. 0. 0.]\n",
            " [0. 0. 0. ... 0. 0. 0.]\n",
            " [0. 0. 0. ... 0. 0. 0.]\n",
            " ...\n",
            " [0. 0. 0. ... 0. 0. 0.]\n",
            " [0. 0. 0. ... 0. 0. 0.]\n",
            " [0. 0. 0. ... 0. 0. 0.]]\n"
          ]
        }
      ]
    },
    {
      "cell_type": "code",
      "metadata": {
        "colab": {
          "base_uri": "https://localhost:8080/"
        },
        "id": "0GuG8RiyOUZU",
        "outputId": "4caaae54-8ad0-4a94-e2df-1963a0799264"
      },
      "source": [
        "from sklearn.cluster import KMeans\n",
        "K = 3\n",
        "model = KMeans(n_clusters=K)#, init='k-means++', max_iter=100, n_init=1)\n",
        "model.fit(X)\n",
        "\n",
        "print(\"cluster no. of input documents, in the order they received:\")\n",
        "print(model.labels_)\n"
      ],
      "execution_count": null,
      "outputs": [
        {
          "output_type": "stream",
          "name": "stdout",
          "text": [
            "cluster no. of input documents, in the order they received:\n",
            "[1 1 2 2 1 2 0 2 1 1 1 0 1 1 1 1 1 1 1 1 0 1 0 2 0 1 0 0 0 0 1 1 1 1 1 2 0\n",
            " 0 0 0 0 0 2 0 2 2 0 0 2 2 2 0 0 0 1 0 0 1 2 2 2 0 0 2 0 0 0 2 0 0 0 0 1 0\n",
            " 0 0 0 1 0 0 0 1 2 0 2 0 0 2 0 0 0 2 1 1 0 0 1 1 1 2]\n"
          ]
        }
      ]
    },
    {
      "cell_type": "code",
      "metadata": {
        "colab": {
          "base_uri": "https://localhost:8080/",
          "height": 69
        },
        "id": "JsDS_FDTOmOh",
        "outputId": "bcc62fb1-d9b7-46a1-8a1a-4f6907fbc530"
      },
      "source": [
        "\"\"\"\n",
        "Y = vectorizer.transform([\"I like football\"])\n",
        "prediction = model.predict(Y)\n",
        "print(prediction)\n",
        "\n",
        "Y = vectorizer.transform([\"Bitcoin is great.\"])\n",
        "prediction = model.predict(Y)\n",
        "print(prediction)\n",
        "\n",
        "Y = vectorizer.transform([\"I study at Coventry University\"])\n",
        "prediction = model.predict(Y)\n",
        "print(prediction)\n",
        "\"\"\""
      ],
      "execution_count": null,
      "outputs": [
        {
          "output_type": "execute_result",
          "data": {
            "application/vnd.google.colaboratory.intrinsic+json": {
              "type": "string"
            },
            "text/plain": [
              "'\\nY = vectorizer.transform([\"I like football\"])\\nprediction = model.predict(Y)\\nprint(prediction)\\n\\nY = vectorizer.transform([\"Bitcoin is great.\"])\\nprediction = model.predict(Y)\\nprint(prediction)\\n\\nY = vectorizer.transform([\"I study at Coventry University\"])\\nprediction = model.predict(Y)\\nprint(prediction)\\n'"
            ]
          },
          "metadata": {},
          "execution_count": 8
        }
      ]
    },
    {
      "cell_type": "code",
      "metadata": {
        "colab": {
          "base_uri": "https://localhost:8080/"
        },
        "id": "PQ6ZAqeIO9cI",
        "outputId": "6c53fa5a-e8b5-4f87-daca-d89508d6dd4d"
      },
      "source": [
        "test_doc = [\"I like football.\",\n",
        "            \"Prices of business have hiked.\",\n",
        "            \"Global warming and floods are serious concerns.\",\n",
        "            \"Cricket is good sports.\"\n",
        "           ]\n",
        "filtered_test_docs = []\n",
        "for doc in test_doc:\n",
        "    tokens = word_tokenize(doc)\n",
        "    tmp = \"\"\n",
        "    for w in tokens:\n",
        "        if w not in sw:\n",
        "            tmp += ps.stem(w) + \" \"\n",
        "    filtered_test_docs.append(tmp)\n",
        "\n",
        "print(filtered_test_docs)\n",
        "\n",
        "Y = vectorizer.transform([filtered_test_docs[0]])\n",
        "prediction = model.predict(Y)\n",
        "print(prediction)\n",
        "\n",
        "Y = vectorizer.transform([filtered_test_docs[1]])\n",
        "prediction = model.predict(Y)\n",
        "print(prediction)\n",
        "\n",
        "Y = vectorizer.transform([filtered_test_docs[2]])\n",
        "prediction = model.predict(Y)\n",
        "print(prediction)\n",
        "\n",
        "Y = vectorizer.transform([filtered_test_docs[3]])\n",
        "prediction = model.predict(Y)\n",
        "print(prediction)\n"
      ],
      "execution_count": null,
      "outputs": [
        {
          "output_type": "stream",
          "name": "stdout",
          "text": [
            "['I like footbal . ', 'price busi hike . ', 'global warm flood seriou concern . ', 'cricket good sport . ']\n",
            "[0]\n",
            "[0]\n",
            "[0]\n",
            "[2]\n"
          ]
        }
      ]
    }
  ]
}